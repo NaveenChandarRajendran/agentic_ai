{
 "cells": [
  {
   "cell_type": "code",
   "id": "initial_id",
   "metadata": {
    "collapsed": true,
    "ExecuteTime": {
     "end_time": "2025-07-08T01:06:05.885053Z",
     "start_time": "2025-07-08T01:06:05.880599Z"
    }
   },
   "source": [
    "from typing import TypedDict\n",
    "\n",
    "class PortfolioState(TypedDict):\n",
    "    amount_usd: float\n",
    "    total_usd: float\n",
    "    total_inr: float"
   ],
   "outputs": [],
   "execution_count": 1
  },
  {
   "metadata": {},
   "cell_type": "code",
   "outputs": [],
   "execution_count": null,
   "source": [
    "# my_obj : PortfolioState = {\n",
    "#     'amount_usd': 100,\n",
    "#     'total_usd': 3.0,\n",
    "#     'total_inr': 3.0,\n",
    "# }\n",
    "def calc_total(state: PortfolioState) -> PortfolioState:\n",
    "    state[\"amount_usd\"]  = state[\"total_usd\"] * 1.08\n",
    "    return state\n",
    "\n",
    "def convert_to_inr(state: PortfolioState) -> PortfolioState:\n",
    "    state[\"total_inr\"]  = state[\"total_usd\"] * 85\n",
    "    return state\n",
    "\n"
   ],
   "id": "b5ad7014f1902940"
  }
 ],
 "metadata": {
  "kernelspec": {
   "display_name": "Python 3",
   "language": "python",
   "name": "python3"
  },
  "language_info": {
   "codemirror_mode": {
    "name": "ipython",
    "version": 2
   },
   "file_extension": ".py",
   "mimetype": "text/x-python",
   "name": "python",
   "nbconvert_exporter": "python",
   "pygments_lexer": "ipython2",
   "version": "2.7.6"
  }
 },
 "nbformat": 4,
 "nbformat_minor": 5
}
