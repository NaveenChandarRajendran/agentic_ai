{
 "cells": [
  {
   "cell_type": "code",
   "id": "initial_id",
   "metadata": {
    "collapsed": true,
    "ExecuteTime": {
     "end_time": "2025-07-10T00:43:10.126713Z",
     "start_time": "2025-07-10T00:43:10.095040Z"
    }
   },
   "source": [
    "from dotenv import load_dotenv\n",
    "\n",
    "from graph_with_condition import graph\n",
    "\n",
    "load_dotenv()"
   ],
   "outputs": [
    {
     "data": {
      "text/plain": [
       "True"
      ]
     },
     "execution_count": 1,
     "metadata": {},
     "output_type": "execute_result"
    }
   ],
   "execution_count": 1
  },
  {
   "metadata": {
    "ExecuteTime": {
     "end_time": "2025-07-10T00:54:14.398529Z",
     "start_time": "2025-07-10T00:54:14.390109Z"
    }
   },
   "cell_type": "code",
   "source": [
    "from langchain.chat_models import init_chat_model\n",
    "\n",
    "llm = init_chat_model(\"google_genai:gemini-2.0-flash\")"
   ],
   "id": "cbdb61e5fffed4ba",
   "outputs": [],
   "execution_count": 3
  },
  {
   "metadata": {
    "ExecuteTime": {
     "end_time": "2025-07-10T01:24:26.257544Z",
     "start_time": "2025-07-10T01:24:26.249160Z"
    }
   },
   "cell_type": "code",
   "source": [
    "from typing import TypedDict, Annotated\n",
    "from langgraph.graph import StateGraph,START,END\n",
    "from langgraph.graph.message import add_messages\n",
    "\n",
    "class ChatBotState(TypedDict):\n",
    "    messages : Annotated[list, add_messages]\n",
    "\n",
    "def chatbot_messages(state : ChatBotState) -> ChatBotState:\n",
    "    return {\"messages\": [llm.invoke(state[\"messages\"])]}\n",
    "\n",
    "builder = StateGraph(ChatBotState)\n",
    "builder.add_node(\"chatbot_node\",chatbot_messages)\n",
    "\n",
    "builder.add_edge(START,\"chatbot_node\")\n",
    "builder.add_edge(\"chatbot_node\",END)\n",
    "\n",
    "graph = builder.compile()\n"
   ],
   "id": "72ca551e6e9430ab",
   "outputs": [],
   "execution_count": 5
  },
  {
   "metadata": {
    "ExecuteTime": {
     "end_time": "2025-07-10T01:24:33.180425Z",
     "start_time": "2025-07-10T01:24:31.295166Z"
    }
   },
   "cell_type": "code",
   "source": "response = graph.invoke({\"messages\":[\"Hi\"]})",
   "id": "df8d67ec2a248329",
   "outputs": [],
   "execution_count": 6
  },
  {
   "metadata": {
    "ExecuteTime": {
     "end_time": "2025-07-10T01:24:40.866424Z",
     "start_time": "2025-07-10T01:24:40.862146Z"
    }
   },
   "cell_type": "code",
   "source": "response",
   "id": "ca6cf4c993a338f4",
   "outputs": [
    {
     "data": {
      "text/plain": [
       "{'messages': [HumanMessage(content='Hi', additional_kwargs={}, response_metadata={}, id='8ed0dcbe-e3d2-4822-8fe5-3474a6a226a0'),\n",
       "  AIMessage(content='Hi there! How can I help you today?', additional_kwargs={}, response_metadata={'prompt_feedback': {'block_reason': 0, 'safety_ratings': []}, 'finish_reason': 'STOP', 'model_name': 'gemini-2.0-flash', 'safety_ratings': []}, id='run--5166de8f-9230-430c-9db8-57c002941fd7-0', usage_metadata={'input_tokens': 1, 'output_tokens': 11, 'total_tokens': 12, 'input_token_details': {'cache_read': 0}})]}"
      ]
     },
     "execution_count": 7,
     "metadata": {},
     "output_type": "execute_result"
    }
   ],
   "execution_count": 7
  }
 ],
 "metadata": {
  "kernelspec": {
   "display_name": "Python 3",
   "language": "python",
   "name": "python3"
  },
  "language_info": {
   "codemirror_mode": {
    "name": "ipython",
    "version": 2
   },
   "file_extension": ".py",
   "mimetype": "text/x-python",
   "name": "python",
   "nbconvert_exporter": "python",
   "pygments_lexer": "ipython2",
   "version": "2.7.6"
  }
 },
 "nbformat": 4,
 "nbformat_minor": 5
}
